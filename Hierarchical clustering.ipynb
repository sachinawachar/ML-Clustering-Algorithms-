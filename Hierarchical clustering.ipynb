{
 "cells": [
  {
   "cell_type": "code",
   "execution_count": 1,
   "id": "9997aee0",
   "metadata": {},
   "outputs": [],
   "source": [
    "import numpy as np\n",
    "import pandas as pd\n",
    "import matplotlib.pyplot as plt\n",
    "%matplotlib inline\n",
    "import seaborn as sns"
   ]
  },
  {
   "cell_type": "code",
   "execution_count": 2,
   "id": "ab85e023",
   "metadata": {},
   "outputs": [],
   "source": [
    "import warnings\n",
    "warnings.filterwarnings('ignore')"
   ]
  },
  {
   "cell_type": "code",
   "execution_count": 3,
   "id": "d291bd0c",
   "metadata": {},
   "outputs": [
    {
     "data": {
      "text/html": [
       "<div>\n",
       "<style scoped>\n",
       "    .dataframe tbody tr th:only-of-type {\n",
       "        vertical-align: middle;\n",
       "    }\n",
       "\n",
       "    .dataframe tbody tr th {\n",
       "        vertical-align: top;\n",
       "    }\n",
       "\n",
       "    .dataframe thead th {\n",
       "        text-align: right;\n",
       "    }\n",
       "</style>\n",
       "<table border=\"1\" class=\"dataframe\">\n",
       "  <thead>\n",
       "    <tr style=\"text-align: right;\">\n",
       "      <th></th>\n",
       "      <th>CustomerID</th>\n",
       "      <th>Gender</th>\n",
       "      <th>Age</th>\n",
       "      <th>Annual Income (k$)</th>\n",
       "      <th>Spending Score (1-100)</th>\n",
       "    </tr>\n",
       "  </thead>\n",
       "  <tbody>\n",
       "    <tr>\n",
       "      <th>0</th>\n",
       "      <td>1</td>\n",
       "      <td>Male</td>\n",
       "      <td>19</td>\n",
       "      <td>15</td>\n",
       "      <td>39</td>\n",
       "    </tr>\n",
       "    <tr>\n",
       "      <th>1</th>\n",
       "      <td>2</td>\n",
       "      <td>Male</td>\n",
       "      <td>21</td>\n",
       "      <td>15</td>\n",
       "      <td>81</td>\n",
       "    </tr>\n",
       "    <tr>\n",
       "      <th>2</th>\n",
       "      <td>3</td>\n",
       "      <td>Female</td>\n",
       "      <td>20</td>\n",
       "      <td>16</td>\n",
       "      <td>6</td>\n",
       "    </tr>\n",
       "    <tr>\n",
       "      <th>3</th>\n",
       "      <td>4</td>\n",
       "      <td>Female</td>\n",
       "      <td>23</td>\n",
       "      <td>16</td>\n",
       "      <td>77</td>\n",
       "    </tr>\n",
       "    <tr>\n",
       "      <th>4</th>\n",
       "      <td>5</td>\n",
       "      <td>Female</td>\n",
       "      <td>31</td>\n",
       "      <td>17</td>\n",
       "      <td>40</td>\n",
       "    </tr>\n",
       "  </tbody>\n",
       "</table>\n",
       "</div>"
      ],
      "text/plain": [
       "   CustomerID  Gender  Age  Annual Income (k$)  Spending Score (1-100)\n",
       "0           1    Male   19                  15                      39\n",
       "1           2    Male   21                  15                      81\n",
       "2           3  Female   20                  16                       6\n",
       "3           4  Female   23                  16                      77\n",
       "4           5  Female   31                  17                      40"
      ]
     },
     "execution_count": 3,
     "metadata": {},
     "output_type": "execute_result"
    }
   ],
   "source": [
    "df = pd.read_csv('Mall_Customers.csv')\n",
    "df.head()"
   ]
  },
  {
   "cell_type": "code",
   "execution_count": 4,
   "id": "0d6150ec",
   "metadata": {},
   "outputs": [
    {
     "data": {
      "text/html": [
       "<div>\n",
       "<style scoped>\n",
       "    .dataframe tbody tr th:only-of-type {\n",
       "        vertical-align: middle;\n",
       "    }\n",
       "\n",
       "    .dataframe tbody tr th {\n",
       "        vertical-align: top;\n",
       "    }\n",
       "\n",
       "    .dataframe thead th {\n",
       "        text-align: right;\n",
       "    }\n",
       "</style>\n",
       "<table border=\"1\" class=\"dataframe\">\n",
       "  <thead>\n",
       "    <tr style=\"text-align: right;\">\n",
       "      <th></th>\n",
       "      <th>Age</th>\n",
       "      <th>Spending Score (1-100)</th>\n",
       "    </tr>\n",
       "  </thead>\n",
       "  <tbody>\n",
       "    <tr>\n",
       "      <th>0</th>\n",
       "      <td>19</td>\n",
       "      <td>39</td>\n",
       "    </tr>\n",
       "    <tr>\n",
       "      <th>1</th>\n",
       "      <td>21</td>\n",
       "      <td>81</td>\n",
       "    </tr>\n",
       "    <tr>\n",
       "      <th>2</th>\n",
       "      <td>20</td>\n",
       "      <td>6</td>\n",
       "    </tr>\n",
       "    <tr>\n",
       "      <th>3</th>\n",
       "      <td>23</td>\n",
       "      <td>77</td>\n",
       "    </tr>\n",
       "    <tr>\n",
       "      <th>4</th>\n",
       "      <td>31</td>\n",
       "      <td>40</td>\n",
       "    </tr>\n",
       "  </tbody>\n",
       "</table>\n",
       "</div>"
      ],
      "text/plain": [
       "   Age  Spending Score (1-100)\n",
       "0   19                      39\n",
       "1   21                      81\n",
       "2   20                       6\n",
       "3   23                      77\n",
       "4   31                      40"
      ]
     },
     "execution_count": 4,
     "metadata": {},
     "output_type": "execute_result"
    }
   ],
   "source": [
    "x=df[['Age','Spending Score (1-100)']]\n",
    "x.head()"
   ]
  },
  {
   "cell_type": "code",
   "execution_count": 9,
   "id": "4a7bd19f",
   "metadata": {},
   "outputs": [],
   "source": [
    "import scipy.cluster.hierarchy as shc"
   ]
  },
  {
   "cell_type": "code",
   "execution_count": null,
   "id": "0b8ab71f",
   "metadata": {},
   "outputs": [],
   "source": [
    "agglo_clusters_5=shc.linkage()"
   ]
  },
  {
   "cell_type": "code",
   "execution_count": null,
   "id": "68b8ac08",
   "metadata": {},
   "outputs": [],
   "source": []
  },
  {
   "cell_type": "code",
   "execution_count": null,
   "id": "761f770d",
   "metadata": {},
   "outputs": [],
   "source": [
    "plt.title()"
   ]
  },
  {
   "cell_type": "code",
   "execution_count": 10,
   "id": "b82ac6be",
   "metadata": {},
   "outputs": [
    {
     "data": {
      "text/plain": [
       "array([[  1.        ,  35.        ,   0.        ,   2.        ],\n",
       "       [ 12.        , 176.        ,   0.        ,   2.        ],\n",
       "       [ 37.        , 159.        ,   0.        ,   2.        ],\n",
       "       [154.        , 194.        ,   0.        ,   2.        ],\n",
       "       [ 16.        ,  20.        ,   0.        ,   2.        ],\n",
       "       [135.        , 183.        ,   0.        ,   2.        ],\n",
       "       [147.        , 197.        ,   0.        ,   2.        ],\n",
       "       [ 42.        , 146.        ,   0.        ,   2.        ],\n",
       "       [  2.        , 134.        ,   1.        ,   2.        ],\n",
       "       [  3.        ,  13.        ,   1.        ,   2.        ],\n",
       "       [ 49.        ,  94.        ,   1.        ,   2.        ],\n",
       "       [ 11.        ,  19.        ,   1.        ,   2.        ],\n",
       "       [141.        , 163.        ,   1.        ,   2.        ],\n",
       "       [123.        , 193.        ,   1.        ,   2.        ],\n",
       "       [149.        , 179.        ,   1.        ,   2.        ],\n",
       "       [ 38.        , 168.        ,   1.        ,   2.        ],\n",
       "       [ 23.        , 137.        ,   1.        ,   2.        ],\n",
       "       [ 25.        , 161.        ,   1.        ,   2.        ],\n",
       "       [ 51.        ,  88.        ,   1.        ,   2.        ],\n",
       "       [143.        , 181.        ,   1.        ,   2.        ],\n",
       "       [129.        , 131.        ,   1.        ,   2.        ],\n",
       "       [ 36.        , 150.        ,   1.        ,   2.        ],\n",
       "       [ 65.        ,  68.        ,   1.        ,   2.        ],\n",
       "       [ 61.        , 111.        ,   1.        ,   2.        ],\n",
       "       [ 78.        ,  95.        ,   1.        ,   2.        ],\n",
       "       [ 75.        , 103.        ,   1.        ,   2.        ],\n",
       "       [ 58.        ,  97.        ,   1.        ,   2.        ],\n",
       "       [ 55.        ,  71.        ,   1.        ,   2.        ],\n",
       "       [ 79.        ,  98.        ,   1.        ,   2.        ],\n",
       "       [ 54.        ,  89.        ,   1.        ,   2.        ],\n",
       "       [ 59.        , 107.        ,   1.        ,   2.        ],\n",
       "       [ 60.        ,  70.        ,   1.        ,   2.        ],\n",
       "       [148.        , 190.        ,   1.        ,   2.        ],\n",
       "       [  9.        , 202.        ,   1.15470054,   3.        ],\n",
       "       [199.        , 217.        ,   1.29099445,   3.        ],\n",
       "       [153.        , 220.        ,   1.29099445,   3.        ],\n",
       "       [162.        , 208.        ,   1.29099445,   3.        ],\n",
       "       [ 93.        , 184.        ,   1.41421356,   2.        ],\n",
       "       [177.        , 187.        ,   1.41421356,   2.        ],\n",
       "       [125.        , 157.        ,   1.41421356,   2.        ],\n",
       "       [ 99.        , 115.        ,   1.41421356,   2.        ],\n",
       "       [104.        , 119.        ,   1.41421356,   2.        ],\n",
       "       [ 92.        , 101.        ,   1.41421356,   2.        ],\n",
       "       [ 85.        ,  96.        ,   1.41421356,   2.        ],\n",
       "       [ 63.        ,  86.        ,   1.41421356,   2.        ],\n",
       "       [206.        , 216.        ,   1.58113883,   4.        ],\n",
       "       [178.        , 201.        ,   1.63299316,   3.        ],\n",
       "       [182.        , 203.        ,   1.63299316,   3.        ],\n",
       "       [188.        , 221.        ,   1.73205081,   3.        ],\n",
       "       [ 46.        , 241.        ,   1.82574186,   3.        ],\n",
       "       [145.        , 185.        ,   2.        ,   2.        ],\n",
       "       [112.        , 121.        ,   2.        ,   2.        ],\n",
       "       [ 62.        , 110.        ,   2.        ,   2.        ],\n",
       "       [106.        , 109.        ,   2.        ,   2.        ],\n",
       "       [152.        , 166.        ,   2.        ,   2.        ],\n",
       "       [  5.        , 209.        ,   2.081666  ,   3.        ],\n",
       "       [ 27.        , 218.        ,   2.081666  ,   3.        ],\n",
       "       [120.        , 225.        ,   2.081666  ,   3.        ],\n",
       "       [  0.        ,  91.        ,   2.23606798,   2.        ],\n",
       "       [  7.        ,  41.        ,   2.23606798,   2.        ],\n",
       "       [ 24.        , 174.        ,   2.23606798,   2.        ],\n",
       "       [ 31.        ,  39.        ,   2.23606798,   2.        ],\n",
       "       [ 44.        , 164.        ,   2.23606798,   2.        ],\n",
       "       [133.        , 191.        ,   2.23606798,   2.        ],\n",
       "       [ 84.        ,  87.        ,   2.23606798,   2.        ],\n",
       "       [ 43.        , 169.        ,   2.23606798,   2.        ],\n",
       "       [113.        , 114.        ,   2.23606798,   2.        ],\n",
       "       [ 48.        , 142.        ,   2.23606798,   2.        ],\n",
       "       [227.        , 228.        ,   2.23606798,   4.        ],\n",
       "       [100.        , 105.        ,   2.23606798,   2.        ],\n",
       "       [ 72.        ,  74.        ,   2.23606798,   2.        ],\n",
       "       [ 82.        , 108.        ,   2.23606798,   2.        ],\n",
       "       [ 57.        ,  67.        ,   2.23606798,   2.        ],\n",
       "       [  4.        , 210.        ,   2.38047614,   3.        ],\n",
       "       [175.        , 219.        ,   2.38047614,   3.        ],\n",
       "       [ 90.        , 231.        ,   2.38047614,   3.        ],\n",
       "       [ 15.        , 200.        ,   2.5819889 ,   3.        ],\n",
       "       [155.        , 205.        ,   2.5819889 ,   3.        ],\n",
       "       [  6.        , 192.        ,   2.82842712,   2.        ],\n",
       "       [ 22.        , 136.        ,   2.82842712,   2.        ],\n",
       "       [ 50.        ,  56.        ,   2.82842712,   2.        ],\n",
       "       [167.        , 212.        ,   2.88675135,   3.        ],\n",
       "       [173.        , 214.        ,   2.88675135,   3.        ],\n",
       "       [165.        , 235.        ,   2.88675135,   4.        ],\n",
       "       [ 14.        , 170.        ,   3.        ,   2.        ],\n",
       "       [156.        , 158.        ,   3.        ,   2.        ],\n",
       "       [118.        , 229.        ,   3.10912635,   3.        ],\n",
       "       [ 30.        , 140.        ,   3.16227766,   2.        ],\n",
       "       [ 28.        , 180.        ,   3.16227766,   2.        ],\n",
       "       [242.        , 243.        ,   3.16227766,   4.        ],\n",
       "       [ 34.        , 247.        ,   3.51188458,   4.        ],\n",
       "       [151.        , 213.        ,   3.51188458,   3.        ],\n",
       "       [233.        , 245.        ,   3.58900437,   7.        ],\n",
       "       [ 21.        , 171.        ,   3.60555128,   2.        ],\n",
       "       [ 26.        , 126.        ,   3.60555128,   2.        ],\n",
       "       [ 81.        , 122.        ,   3.60555128,   2.        ],\n",
       "       [ 66.        ,  76.        ,   3.60555128,   2.        ],\n",
       "       [ 83.        , 268.        ,   3.60555128,   5.        ],\n",
       "       [ 64.        , 252.        ,   3.65148372,   3.        ],\n",
       "       [ 18.        , 262.        ,   3.6968455 ,   3.        ],\n",
       "       [117.        , 249.        ,   3.76386326,   4.        ],\n",
       "       [240.        , 266.        ,   3.80788655,   4.        ],\n",
       "       [ 47.        , 226.        ,   4.04145188,   3.        ],\n",
       "       [237.        , 251.        ,   4.12310563,   4.        ],\n",
       "       [ 17.        ,  45.        ,   4.12310563,   2.        ],\n",
       "       [223.        , 264.        ,   4.12310563,   4.        ],\n",
       "       [ 53.        ,  73.        ,   4.12310563,   2.        ],\n",
       "       [130.        , 279.        ,   4.163332  ,   3.        ],\n",
       "       [172.        , 278.        ,   4.163332  ,   3.        ],\n",
       "       [253.        , 298.        ,   4.41210456,   5.        ],\n",
       "       [267.        , 273.        ,   4.41965308,   5.        ],\n",
       "       [ 80.        , 270.        ,   4.50924975,   3.        ],\n",
       "       [128.        , 246.        ,   4.56435465,   4.        ],\n",
       "       [256.        , 265.        ,   4.65474668,   5.        ],\n",
       "       [139.        , 263.        ,   4.65474668,   3.        ],\n",
       "       [248.        , 254.        ,   4.89897949,   5.        ],\n",
       "       [102.        , 275.        ,   5.32290647,   4.        ],\n",
       "       [230.        , 286.        ,   5.32290647,   5.        ],\n",
       "       [116.        , 271.        ,   5.32290647,   3.        ],\n",
       "       [258.        , 269.        ,   5.38516481,   4.        ],\n",
       "       [124.        , 132.        ,   5.38516481,   2.        ],\n",
       "       [195.        , 239.        ,   5.47722558,   3.        ],\n",
       "       [255.        , 261.        ,   5.66274374,   5.        ],\n",
       "       [198.        , 232.        ,   5.6862407 ,   3.        ],\n",
       "       [138.        , 236.        ,   5.77350269,   4.        ],\n",
       "       [ 52.        , 257.        ,   5.84522597,   4.        ],\n",
       "       [189.        , 274.        ,   5.94418483,   4.        ],\n",
       "       [292.        , 314.        ,   6.11711105,  10.        ],\n",
       "       [ 77.        , 296.        ,   6.13731755,   3.        ],\n",
       "       [127.        , 291.        ,   6.33771778,   4.        ],\n",
       "       [186.        , 299.        ,   6.35085296,   4.        ],\n",
       "       [ 32.        , 287.        ,   6.37704216,   3.        ],\n",
       "       [ 33.        , 259.        ,   6.45497224,   3.        ],\n",
       "       [196.        , 294.        ,   6.45497224,   3.        ],\n",
       "       [280.        , 289.        ,   6.58280589,   6.        ],\n",
       "       [ 29.        , 277.        ,   6.73300329,   4.        ],\n",
       "       [222.        , 305.        ,   6.75771164,   6.        ],\n",
       "       [ 69.        , 302.        ,   6.75771164,   4.        ],\n",
       "       [250.        , 281.        ,   6.94742158,   5.        ],\n",
       "       [204.        , 288.        ,   7.        ,   4.        ],\n",
       "       [244.        , 306.        ,   7.1063352 ,   4.        ],\n",
       "       [282.        , 329.        ,   7.48490545,   7.        ],\n",
       "       [238.        , 293.        ,   7.90569415,   4.        ],\n",
       "       [224.        , 325.        ,   7.92674797,   6.        ],\n",
       "       [272.        , 309.        ,   8.03029976,   7.        ],\n",
       "       [234.        , 326.        ,   8.51329492,   7.        ],\n",
       "       [207.        , 333.        ,   8.79393731,   5.        ],\n",
       "       [260.        , 312.        ,   8.99073597,   6.        ],\n",
       "       [ 40.        , 160.        ,   9.        ,   2.        ],\n",
       "       [  8.        , 331.        ,   9.12870929,   4.        ],\n",
       "       [211.        , 338.        ,   9.24121204,   7.        ],\n",
       "       [276.        , 322.        ,   9.25652923,   8.        ],\n",
       "       [215.        , 323.        ,   9.46924847,   5.        ],\n",
       "       [284.        , 308.        ,   9.76046447,   5.        ],\n",
       "       [144.        , 324.        ,   9.8386991 ,   5.        ],\n",
       "       [317.        , 334.        ,  10.60588744,  11.        ],\n",
       "       [327.        , 342.        ,  11.10276671,  14.        ],\n",
       "       [295.        , 328.        ,  11.11455502,   5.        ],\n",
       "       [283.        , 321.        ,  11.80193689,   7.        ],\n",
       "       [290.        , 315.        ,  11.96754871,   9.        ],\n",
       "       [337.        , 343.        ,  12.03605694,  10.        ],\n",
       "       [335.        , 345.        ,  12.13345702,  11.        ],\n",
       "       [ 10.        , 347.        ,  13.53654665,   7.        ],\n",
       "       [318.        , 348.        ,  14.20093894,   5.        ],\n",
       "       [297.        , 355.        ,  14.52349194,  16.        ],\n",
       "       [303.        , 339.        ,  14.86606875,   8.        ],\n",
       "       [301.        , 319.        ,  15.20690633,   8.        ],\n",
       "       [285.        , 353.        ,  15.25872116,   7.        ],\n",
       "       [300.        , 340.        ,  15.29705854,   8.        ],\n",
       "       [311.        , 344.        ,  15.65825509,  10.        ],\n",
       "       [304.        , 336.        ,  16.10382977,   8.        ],\n",
       "       [330.        , 346.        ,  18.1261015 ,   9.        ],\n",
       "       [341.        , 350.        ,  19.25023191,  14.        ],\n",
       "       [310.        , 320.        ,  19.45911465,   7.        ],\n",
       "       [307.        , 367.        ,  19.83023185,  10.        ],\n",
       "       [316.        , 369.        ,  19.92629275,  14.        ],\n",
       "       [356.        , 358.        ,  20.42640681,  21.        ],\n",
       "       [349.        , 362.        ,  21.93319254,  11.        ],\n",
       "       [332.        , 361.        ,  22.81537038,  14.        ],\n",
       "       [313.        , 357.        ,  25.93067681,  10.        ],\n",
       "       [365.        , 373.        ,  26.55327081,  15.        ],\n",
       "       [360.        , 370.        ,  28.88521344,  18.        ],\n",
       "       [352.        , 359.        ,  30.31605997,  14.        ],\n",
       "       [363.        , 375.        ,  32.731535  ,  19.        ],\n",
       "       [372.        , 378.        ,  34.23135572,  28.        ],\n",
       "       [351.        , 376.        ,  36.96759443,  29.        ],\n",
       "       [366.        , 381.        ,  37.51720403,  26.        ],\n",
       "       [374.        , 382.        ,  41.04019516,  24.        ],\n",
       "       [364.        , 368.        ,  41.18353231,  24.        ],\n",
       "       [371.        , 380.        ,  54.70537248,  24.        ],\n",
       "       [379.        , 388.        ,  57.57738186,  34.        ],\n",
       "       [354.        , 387.        ,  59.18553042,  29.        ],\n",
       "       [384.        , 385.        ,  85.17172154,  57.        ],\n",
       "       [377.        , 391.        ,  86.82858568,  40.        ],\n",
       "       [383.        , 390.        ,  92.2735541 ,  53.        ],\n",
       "       [386.        , 389.        , 117.31371267,  50.        ],\n",
       "       [394.        , 395.        , 169.70614416, 103.        ],\n",
       "       [393.        , 396.        , 264.65177587, 143.        ],\n",
       "       [392.        , 397.        , 420.4853487 , 200.        ]])"
      ]
     },
     "execution_count": 10,
     "metadata": {},
     "output_type": "execute_result"
    }
   ],
   "source": [
    "agglo_clusters=shc.linkage(x,method='ward')\n",
    "agglo_clusters"
   ]
  },
  {
   "cell_type": "code",
   "execution_count": 11,
   "id": "ed8996e5",
   "metadata": {},
   "outputs": [
    {
     "data": {
      "image/png": "[encoded data removed]",
      "text/plain": [
       "<Figure size 640x480 with 1 Axes>"
      ]
     },
     "metadata": {},
     "output_type": "display_data"
    }
   ],
   "source": [
    "dend=shc.dendrogram(shc.linkage(x,method='ward'))"
   ]
  },
  {
   "cell_type": "code",
   "execution_count": 12,
   "id": "b3a61304",
   "metadata": {},
   "outputs": [],
   "source": [
    "from sklearn.cluster import AgglomerativeClustering"
   ]
  },
  {
   "cell_type": "code",
   "execution_count": 13,
   "id": "2cd62433",
   "metadata": {},
   "outputs": [
    {
     "data": {
      "text/plain": [
       "AgglomerativeClustering(n_clusters=4)"
      ]
     },
     "execution_count": 13,
     "metadata": {},
     "output_type": "execute_result"
    }
   ],
   "source": [
    "agglo_clustering=AgglomerativeClustering(n_clusters=4,affinity='euclidean',linkage='ward')\n",
    "agglo_clustering.fit(x)"
   ]
  },
  {
   "cell_type": "code",
   "execution_count": 14,
   "id": "6867d78d",
   "metadata": {},
   "outputs": [
    {
     "data": {
      "text/plain": [
       "array([0, 3, 2, 3, 0, 3, 2, 3, 2, 3, 2, 3, 2, 3, 2, 3, 0, 0, 0, 3, 0, 3,\n",
       "       2, 3, 2, 3, 0, 1, 0, 3, 2, 3, 2, 3, 2, 3, 2, 3, 2, 3, 1, 3, 0, 1,\n",
       "       0, 0, 1, 0, 0, 0, 1, 1, 0, 1, 1, 1, 1, 1, 0, 1, 1, 0, 1, 1, 1, 0,\n",
       "       1, 1, 0, 0, 1, 1, 1, 1, 1, 0, 1, 1, 0, 1, 1, 1, 1, 1, 0, 1, 1, 0,\n",
       "       1, 1, 1, 0, 1, 0, 0, 0, 1, 0, 1, 0, 0, 1, 1, 0, 1, 0, 1, 1, 1, 1,\n",
       "       1, 0, 0, 0, 0, 0, 1, 1, 1, 1, 0, 0, 1, 3, 0, 3, 0, 3, 2, 3, 2, 3,\n",
       "       0, 3, 2, 3, 2, 3, 2, 3, 2, 3, 0, 3, 2, 3, 0, 3, 2, 3, 2, 3, 2, 3,\n",
       "       2, 3, 2, 3, 2, 3, 1, 3, 2, 3, 0, 3, 2, 3, 2, 1, 2, 3, 2, 3, 2, 3,\n",
       "       2, 3, 2, 3, 0, 3, 2, 3, 0, 3, 0, 3, 2, 3, 2, 3, 2, 3, 2, 3, 0, 3,\n",
       "       2, 3], dtype=int64)"
      ]
     },
     "execution_count": 14,
     "metadata": {},
     "output_type": "execute_result"
    }
   ],
   "source": [
    "labels=agglo_clustering.labels_\n",
    "labels"
   ]
  },
  {
   "cell_type": "code",
   "execution_count": 16,
   "id": "e4cc412b",
   "metadata": {},
   "outputs": [
    {
     "data": {
      "image/png": "[encoded data removed]",
      "text/plain": [
       "<Figure size 700x500 with 1 Axes>"
      ]
     },
     "metadata": {},
     "output_type": "display_data"
    }
   ],
   "source": [
    "agglo_clustering=AgglomerativeClustering(n_clusters=4,affinity='euclidean',linkage='ward')\n",
    "agglo_clustering.fit(x)\n",
    "labels=agglo_clustering.labels_\n",
    "plt.figure(figsize=(7,5))\n",
    "plt.scatter(x.values[labels==0,0],x.values[labels==0,1],s=50,c='red',label='Old average spenders')\n",
    "plt.scatter(x.values[labels==1,0],x.values[labels==1,1],s=50,c='blue',label='Low spendres')\n",
    "plt.scatter(x.values[labels==2,0],x.values[labels==2,1],s=50,c='green',label='High spenders')\n",
    "plt.scatter(x.values[labels==3,0],x.values[labels==3,1],s=50,c='maroon',label='Young average spenders')\n",
    "\n",
    "plt.title('Clusters of Customers')\n",
    "plt.xlabel('Age')\n",
    "plt.ylabel('Spending Score (1-100)')\n",
    "plt.legend()\n",
    "plt.show()"
   ]
  },
  {
   "cell_type": "code",
   "execution_count": null,
   "id": "9e0d40a8",
   "metadata": {},
   "outputs": [],
   "source": []
  },
  {
   "cell_type": "code",
   "execution_count": null,
   "id": "d728a2d5",
   "metadata": {},
   "outputs": [],
   "source": []
  },
  {
   "cell_type": "code",
   "execution_count": null,
   "id": "ba00f78d",
   "metadata": {},
   "outputs": [],
   "source": []
  },
  {
   "cell_type": "code",
   "execution_count": null,
   "id": "57cbb334",
   "metadata": {},
   "outputs": [],
   "source": []
  },
  {
   "cell_type": "code",
   "execution_count": null,
   "id": "e7aa1775",
   "metadata": {},
   "outputs": [],
   "source": []
  },
  {
   "cell_type": "code",
   "execution_count": null,
   "id": "b4180fbb",
   "metadata": {},
   "outputs": [],
   "source": []
  }
 ],
 "metadata": {
  "kernelspec": {
   "display_name": "Python 3 (ipykernel)",
   "language": "python",
   "name": "python3"
  },
  "language_info": {
   "codemirror_mode": {
    "name": "ipython",
    "version": 3
   },
   "file_extension": ".py",
   "mimetype": "text/x-python",
   "name": "python",
   "nbconvert_exporter": "python",
   "pygments_lexer": "ipython3",
   "version": "3.9.13"
  }
 },
 "nbformat": 4,
 "nbformat_minor": 5
}
